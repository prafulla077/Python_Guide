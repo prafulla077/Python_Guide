{
 "cells": [
  {
   "cell_type": "markdown",
   "id": "30af9f72",
   "metadata": {},
   "source": [
    "# 🧠 Python\n",
    "## ✨Introduction\n",
    "### 📌Theory\n",
    "---\n",
    "-  high level programming language\n",
    "-  supports **object oriented paradigms**\n",
    "-  open source\n",
    "-  platform independent\n",
    "-  case sensitive\n",
    "-  `Guido Van Rossum` in 1991, Netherlands\n",
    "-  Named after *Monty Python's Flying Circus*\n",
    "---"
   ]
  },
  {
   "cell_type": "markdown",
   "id": "4d7ef8b2",
   "metadata": {},
   "source": [
    "### 📌Practical\n",
    "1.  The system should have python.\n",
    "2.  **Python** and **pylance** extension (recommended)\n",
    "3.  Files are saved as `.py` for python and `.ipynb` for jupiter notebook"
   ]
  },
  {
   "cell_type": "code",
   "execution_count": 14,
   "id": "08532a06",
   "metadata": {},
   "outputs": [
    {
     "name": "stdout",
     "output_type": "stream",
     "text": [
      "Python 3.12.1\n"
     ]
    }
   ],
   "source": [
    "!python --version"
   ]
  },
  {
   "cell_type": "markdown",
   "id": "c0d766df",
   "metadata": {},
   "source": [
    "Displaying hello world 😇"
   ]
  },
  {
   "cell_type": "code",
   "execution_count": 15,
   "id": "d21f7a4c",
   "metadata": {},
   "outputs": [
    {
     "name": "stdout",
     "output_type": "stream",
     "text": [
      "Hello world with double quotes\n",
      "Hello world with single quotes\n",
      "1234567890\n",
      "1111.1100000000001\n"
     ]
    }
   ],
   "source": [
    "print(\"Hello world with double quotes\")\n",
    "print('Hello world with single quotes')\n",
    "print(1234567890)\n",
    "print(1010.10 + 101.01)"
   ]
  },
  {
   "cell_type": "markdown",
   "id": "059b2987",
   "metadata": {},
   "source": [
    "> Why mysterious little `.0000000000001`? 🤕\n",
    "\n",
    "-   In binary, decimal is repeating fractions.\n",
    "-   Computers can't store most decimal numbers exactly in binary so they get approximated.\n",
    "-   It is a limitation of IEEE 754.\n",
    "-   It’s fast and efficient, but tiny rounding errors are normal.\n",
    "\n",
    ">   How to fix it? 🤔\n",
    "\n",
    "-   Use formatting"
   ]
  },
  {
   "cell_type": "code",
   "execution_count": 20,
   "id": "516e48aa",
   "metadata": {},
   "outputs": [
    {
     "name": "stdout",
     "output_type": "stream",
     "text": [
      "1111.11\n"
     ]
    }
   ],
   "source": [
    "# Using formatting to overcome limitation of IEEE 754\n",
    "print(f\"{1010.10 + 101.01 :.2f}\")   # Only taking 2 decimal places"
   ]
  },
  {
   "cell_type": "markdown",
   "id": "71ef3ef3",
   "metadata": {},
   "source": [
    "Some compound display tricks 😉"
   ]
  },
  {
   "cell_type": "code",
   "execution_count": 16,
   "id": "f301d357",
   "metadata": {},
   "outputs": [
    {
     "name": "stdout",
     "output_type": "stream",
     "text": [
      "My name is Prafulla and I am 22 years old.\n",
      "My name is Prafulla and I am 22 years old.\n",
      "My name is Prafulla and I am 22 years old.\n",
      "My name is Prafulla and I am 22 years old.\n",
      "My name is Prafulla and I am 22 years old.\n"
     ]
    }
   ],
   "source": [
    "name = 'Prafulla'\n",
    "age = 22\n",
    "\n",
    "# Using comma in print\n",
    "print('My name is', name, 'and I am', age , 'years old.')\n",
    "\n",
    "# Using f-string (formatted string) in print\n",
    "print(f'My name is {name} and I am {age} years old.')\n",
    "\n",
    "# Using format() method in print\n",
    "print('My name is {} and I am {} years old.'.format(name, age))\n",
    "\n",
    "# Using % operator in print (string interpolation)\n",
    "print('My name is %s and I am %d years old.' % (name, age))\n",
    "\n",
    "# Using string concatenation in print\n",
    "print('My name is ' + name + ' and I am ' + str(age) + ' years old.')\n"
   ]
  },
  {
   "cell_type": "markdown",
   "id": "b0d31b24",
   "metadata": {},
   "source": [
    "### 🗡️ NOTE\n",
    "***Indentation*** are the space at the beginning of the code line.\n",
    "\n",
    "***Parenthesis*** == `()`\n",
    "\n",
    "***Bracket*** == `[]`\n",
    "\n",
    "***Brace*** == `{}`\n"
   ]
  }
 ],
 "metadata": {
  "kernelspec": {
   "display_name": "Python 3",
   "language": "python",
   "name": "python3"
  },
  "language_info": {
   "codemirror_mode": {
    "name": "ipython",
    "version": 3
   },
   "file_extension": ".py",
   "mimetype": "text/x-python",
   "name": "python",
   "nbconvert_exporter": "python",
   "pygments_lexer": "ipython3",
   "version": "3.12.1"
  }
 },
 "nbformat": 4,
 "nbformat_minor": 5
}
