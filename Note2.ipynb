{
 "cells": [
  {
   "cell_type": "markdown",
   "id": "30af9f72",
   "metadata": {},
   "source": [
    "# 🧠 Python\n",
    "## ✨Introduction\n",
    "### 📌Theory\n",
    "---\n",
    "-  high level programming language\n",
    "-  supports **object oriented paradigms**\n",
    "-  open source\n",
    "-  platform independent\n",
    "-  case sensitive\n",
    "-  `Guido Van Rossum` in 1991, Netherlands\n",
    "-  Named after *Monty Python's Flying Circus*"
   ]
  }
 ],
 "metadata": {
  "language_info": {
   "name": "python"
  }
 },
 "nbformat": 4,
 "nbformat_minor": 5
}
