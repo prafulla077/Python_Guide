{
 "cells": [
  {
   "cell_type": "markdown",
   "id": "2b042dd9",
   "metadata": {},
   "source": [
    "# MARKDOWN GUIDE\n",
    "---\n",
    "## Headings\n",
    "---\n",
    "# H1 - Main Title\n",
    "## H2 - Subtitle\n",
    "### H3 - Section\n",
    "#### H4 - Subsection\n",
    "---\n",
    "## TextFormatting\n",
    "---\n",
    "**Bold**\n",
    "\n",
    "*Italic*\n",
    "\n",
    "***Bold + Italic***\n",
    "\n",
    "~~Strikethrough~~\n",
    "\n",
    "`Inline code`\n",
    "\n",
    "---\n",
    "## List\n",
    "---\n",
    "- Item 1\n",
    "    - Subitem 1\n",
    "    - Subitem 2\n",
    "1. Step one\n",
    "2. Step two\n",
    "---\n",
    "## BlockQuotes\n",
    "---\n",
    "> 💡 This is a blockquote with a tip!\n",
    "\n",
    "> 📌 Use it for notes or warnings.\n",
    "---\n",
    "## CodeBlocks\n",
    "---\n",
    "`your_code_here`\n",
    "\n",
    "---\n",
    "## Images\n",
    "---\n",
    "`![Alt text](https://your-image-url.com/image.png)`\n",
    "\n",
    "---\n",
    "![Cat](https://cdn.britannica.com/39/226539-050-D21D7721/Portrait-of-a-cat-with-whiskers-visible.jpg)\n",
    "\n",
    "---\n",
    "## Hyperlinks\n",
    "---\n",
    "[Emojipedia](https://emojipedia.org/)\n",
    "\n",
    "---"
   ]
  }
 ],
 "metadata": {
  "kernelspec": {
   "display_name": "Python 3",
   "language": "python",
   "name": "python3"
  },
  "language_info": {
   "name": "python",
   "version": "3.12.1"
  }
 },
 "nbformat": 4,
 "nbformat_minor": 5
}
